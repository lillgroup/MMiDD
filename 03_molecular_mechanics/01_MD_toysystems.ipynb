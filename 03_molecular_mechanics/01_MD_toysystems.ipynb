{
 "cells": [
  {
   "cell_type": "markdown",
   "metadata": {},
   "source": [
    "# Lab 2: MD Simulations"
   ]
  },
  {
   "cell_type": "markdown",
   "metadata": {},
   "source": [
    "In this lab we will run MD simulations in simple 1D and 2D model systems to understand the basic principles."
   ]
  },
  {
   "cell_type": "markdown",
   "metadata": {},
   "source": [
    "First we will load several modules from the ensembler library"
   ]
  },
  {
   "cell_type": "code",
   "execution_count": null,
   "metadata": {},
   "outputs": [],
   "source": [
    "import tempfile\n",
    "import numpy as np\n",
    "from matplotlib import pyplot as plt\n",
    "%matplotlib inline\n",
    "\n",
    "#Ensembler\n",
    "##COde\n",
    "from ensembler.potentials import OneD as potentials1D\n",
    "from ensembler.potentials import TwoD as potentials2D\n",
    "\n",
    "from ensembler.samplers.stochastic import langevinIntegrator, langevinVelocityIntegrator\n",
    "from ensembler.samplers.optimizers import conjugate_gradient\n",
    "from ensembler.conditions.box_conditions import periodicBoundaryCondition\n",
    "\n",
    "from ensembler.system import system\n",
    "\n",
    "##Visualisation\n",
    "import ensembler.visualisation.plotPotentials as vis\n",
    "from ensembler.visualisation.plotPotentials import plot_1DPotential\n",
    "from ensembler.visualisation.plotSimulations import simulation_analysis_plot\n",
    "from ensembler.visualisation.animationSimulation import animation_trajectory\n",
    "\n",
    "number_of_points = 1000"
   ]
  },
  {
   "cell_type": "markdown",
   "metadata": {},
   "source": [
    "## Potential definition\n",
    "We will use a four-well potential describing four local minima (=states/conformations) along a 1D (reaction) coordinate "
   ]
  },
  {
   "cell_type": "code",
   "execution_count": null,
   "metadata": {},
   "outputs": [],
   "source": [
    "# accessible space\n",
    "space_range = [0, 10]\n",
    "positions = np.linspace(space_range[0], space_range[1], number_of_points)\n",
    "\n",
    "# build potential\n",
    "V = potentials1D.fourWellPotential(a=1, b=3.5, c=6, d=8)\n",
    "\n",
    "fig, axes = vis.plot_potential(V, positions=positions)\n",
    "# fig.savefig(\"four_well.png\")"
   ]
  },
  {
   "cell_type": "markdown",
   "metadata": {},
   "source": [
    "# Energy minimization using Conjugate Gradient method\n",
    "A frequent task in molecular mechanics is energy minimization or geometry optimization. "
   ]
  },
  {
   "cell_type": "markdown",
   "metadata": {},
   "source": [
    "Define number of minimization steps and initial position"
   ]
  },
  {
   "cell_type": "code",
   "execution_count": null,
   "metadata": {},
   "outputs": [],
   "source": [
    "sim_steps = 25\n",
    "init_position = 10"
   ]
  },
  {
   "cell_type": "code",
   "execution_count": null,
   "metadata": {},
   "outputs": [],
   "source": [
    "# settings\n",
    "sampler = conjugate_gradient(max_step_size=0.5)\n",
    "sys = system(potential=V, sampler=sampler, start_position=init_position)\n",
    "\n",
    "# simulate\n",
    "cur_state = sys.simulate(sim_steps, withdraw_traj=True)\n",
    "print()\n",
    "print(\"last_state: \", cur_state)"
   ]
  },
  {
   "cell_type": "markdown",
   "metadata": {},
   "source": [
    "In the visualization we see that the particle quickly leaves its starting position and moves energetically downhill. The particle finally resides at the next local energy minimum. Note, that this minimization algorithm only finds the nearest local minimum. It does not assure that the global optimum is found."
   ]
  },
  {
   "cell_type": "code",
   "execution_count": null,
   "metadata": {},
   "outputs": [],
   "source": [
    "# animation\n",
    "ani, out_path = animation_trajectory(\n",
    "    sys, limits_coordinate_space=space_range, title=\"Conjugated Gradient Simulation\")\n",
    "ani"
   ]
  },
  {
   "cell_type": "code",
   "execution_count": null,
   "metadata": {},
   "outputs": [],
   "source": [
    "# plot\n",
    "simulation_analysis_plot(sys, title=\"Conjugated Gradient\",\n",
    "                         limits_coordinate_space=space_range)"
   ]
  },
  {
   "cell_type": "markdown",
   "metadata": {},
   "source": [
    "# Homework, Problem 1"
   ]
  },
  {
   "cell_type": "markdown",
   "metadata": {},
   "source": [
    "Please write a code that uses only conjugate gradient minimizations to automatically ...\n",
    "a) ... identify all local minima\n",
    "b) ... identifies the global minimum among the local minima.\n",
    "\n",
    "Please make snapshot of code and paste it into document for submission. Also add position and potential energy values for all local minima.\n",
    "\n",
    "Note: You can perform energy minimization multiple times from different starting points."
   ]
  },
  {
   "cell_type": "markdown",
   "metadata": {},
   "source": [
    "# End Homework, Problem 1"
   ]
  },
  {
   "cell_type": "markdown",
   "metadata": {},
   "source": [
    "_______________________________________________"
   ]
  },
  {
   "cell_type": "markdown",
   "metadata": {},
   "source": [
    "# MD Simulation"
   ]
  },
  {
   "cell_type": "markdown",
   "metadata": {},
   "source": [
    "We will perform MD simulations using the Langevin integrator to model the particle motion in a solvent. The Langevin integrator assumes that the system is coupled to a heat-bath. The interaction between the system and the heat-bath is modeled by a stochastic force term. \n",
    "\n",
    "The user has to set the step size $dt$ and the friction coefficient $gamma$. The initial velocity will be randomly drawn from a Maxwell-Boltzmann distribution. The temperature of the simulation and starting position will be set during the system setup (see below)."
   ]
  },
  {
   "cell_type": "code",
   "execution_count": null,
   "metadata": {},
   "outputs": [],
   "source": [
    "# Simple Langevin integration simulation:\n",
    "# Thermostat is already included (Langevin thermostat)\n",
    "sim_steps = 500\n",
    "time_step = 0.2\n",
    "start_position = 8\n",
    "temperature = 0.6\n",
    "space_range = [0, 10]\n",
    "\n",
    "# integrator\n",
    "sampler = langevinVelocityIntegrator(\n",
    "    dt=time_step, gamma=25, old_position=start_position)"
   ]
  },
  {
   "cell_type": "markdown",
   "metadata": {},
   "source": [
    "We are now ready to perform the simulations. The system class wraps the integrator and the potential. Additionally, the initial position of the particle $position$ as well as the temperature parameter $temperature$ are set.\n",
    "\n",
    "To start the simulation we define the number of steps and run `sys.simulate()`. The progress of the simulation is displayed by a progress bar."
   ]
  },
  {
   "cell_type": "code",
   "execution_count": null,
   "metadata": {},
   "outputs": [],
   "source": [
    "# Simulation Setup\n",
    "sys = system(potential=V, sampler=sampler,\n",
    "             start_position=start_position,  temperature=temperature)\n",
    "\n",
    "# simulate\n",
    "cur_state = sys.simulate(sim_steps, withdraw_traj=True, init_system=False)"
   ]
  },
  {
   "cell_type": "markdown",
   "metadata": {},
   "source": [
    "After running the simulation, the simulation data can be displayed as a table using `sys.trajectory`. "
   ]
  },
  {
   "cell_type": "code",
   "execution_count": null,
   "metadata": {},
   "outputs": [],
   "source": []
  },
  {
   "cell_type": "code",
   "execution_count": null,
   "metadata": {},
   "outputs": [],
   "source": [
    "print(\"Trajectory length: \", len(sys.trajectory))\n",
    "print()\n",
    "print(\"last_state: \", cur_state)\n",
    "print(len(sys.trajectory))\n",
    "sys.trajectory.head(20)"
   ]
  },
  {
   "cell_type": "code",
   "execution_count": null,
   "metadata": {},
   "outputs": [],
   "source": [
    "# visualize\n",
    "simulation_analysis_plot(sys, title=\"Langevin Simulation\",\n",
    "                         limits_coordinate_space=(0, 10))"
   ]
  },
  {
   "cell_type": "code",
   "execution_count": null,
   "metadata": {},
   "outputs": [],
   "source": [
    "# animation\n",
    "ani, out_path = animation_trajectory(\n",
    "    sys, limits_coordinate_space=space_range, title=\"Langevin Simulation\")\n",
    "ani"
   ]
  },
  {
   "cell_type": "markdown",
   "metadata": {},
   "source": [
    "# Homework, Bonus points\n",
    "Please make appropriate changes to the simulation settings to sample all four local minima. Also, make sure that the minima are qualitatively explored with a frequency reflecting the relative potential energy of the minima.\n",
    "```\n",
    "sim_steps =\n",
    "time_step =\n",
    "start_position =\n",
    "temperature =\n",
    "```"
   ]
  },
  {
   "cell_type": "markdown",
   "metadata": {},
   "source": [
    "# End Homework, Bonus points"
   ]
  },
  {
   "cell_type": "markdown",
   "metadata": {},
   "source": [
    "___________________________________"
   ]
  },
  {
   "cell_type": "markdown",
   "metadata": {},
   "source": [
    "# Simulation in 2D potential"
   ]
  },
  {
   "cell_type": "markdown",
   "metadata": {},
   "source": [
    "### Settings\n"
   ]
  },
  {
   "cell_type": "code",
   "execution_count": null,
   "metadata": {},
   "outputs": [],
   "source": [
    "min_x = -2*np.pi\n",
    "max_x = 2*np.pi\n",
    "\n",
    "amplitude = 1\n",
    "\n",
    "multiplicit = 1\n",
    "\n",
    "temperature = 1.0\n",
    "\n",
    "# Plotting & energy evaluations:\n",
    "# params\n",
    "extent = (min_x, max_x)\n",
    "box_length = max_x - min_x\n",
    "\n",
    "test_timing_with_points = 1000"
   ]
  },
  {
   "cell_type": "markdown",
   "metadata": {},
   "source": [
    "### Defintion of potential:\n",
    "### 2D cosine function between -2*pi and 2*pi in each dimension"
   ]
  },
  {
   "cell_type": "code",
   "execution_count": null,
   "metadata": {},
   "outputs": [],
   "source": [
    "# 2D\n",
    "\n",
    "\n",
    "V = potentials2D.wavePotential(amplitude=(\n",
    "    amplitude, amplitude), radians=True, multiplicity=[multiplicit, multiplicit])\n",
    "# print(V)\n",
    "\n",
    "positions = np.linspace(min_x, max_x, test_timing_with_points)\n",
    "x_positions, y_positions = np.meshgrid(positions, positions)\n",
    "positions2D = np.array([x_positions.flatten(), y_positions.flatten()]).T\n",
    "\n",
    "fig, axes = vis.plot_potential(V, positions2D)"
   ]
  },
  {
   "cell_type": "markdown",
   "metadata": {},
   "source": [
    "### Run simulation using Langevin integrator and periodic boundary conditions"
   ]
  },
  {
   "cell_type": "code",
   "execution_count": 15,
   "metadata": {},
   "outputs": [],
   "source": [
    "sampler = langevinIntegrator(dt=0.1, gamma=10)\n",
    "periodic_cond = periodicBoundaryCondition(\n",
    "    boundary=[[min_x, max_x], [min_x, max_x]])\n",
    "sys = system(potential=V, sampler=sampler, start_position=[\n",
    "             np.pi, np.pi], temperature=1, conditions=[periodic_cond])\n",
    "\n",
    "# Simulate\n",
    "sys.simulate(steps=100000)\n",
    "\n",
    "# Visualize\n",
    "# phase space to be visualized\n",
    "positions = np.linspace(start=min_x, stop=max_x, num=1000)\n",
    "simulation_analysis_plot(system=sys, title=\"Langevin Simulation\",\n",
    "                         limits_coordinate_space=[[min_x, max_x], [min_x, max_x]])"
   ]
  }
 ],
 "metadata": {
  "kernelspec": {
   "display_name": "03_molecular_mechanics",
   "language": "python",
   "name": "python3"
  },
  "language_info": {
   "codemirror_mode": {
    "name": "ipython",
    "version": 3
   },
   "file_extension": ".py",
   "mimetype": "text/x-python",
   "name": "python",
   "nbconvert_exporter": "python",
   "pygments_lexer": "ipython3",
   "version": "3.7.12"
  },
  "orig_nbformat": 4
 },
 "nbformat": 4,
 "nbformat_minor": 2
}
